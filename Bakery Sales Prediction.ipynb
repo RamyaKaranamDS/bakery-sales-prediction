{
 "cells": [
  {
   "cell_type": "markdown",
   "id": "2157b3ae",
   "metadata": {},
   "source": [
    "## 📊 Bakery Sales Prediction\n",
    "\n",
    "**Goal**: Predict bakery sales for the next `N` days using machine learning models.\n",
    "\n",
    "Dataset provided has dates and daily sales. The goal is to build an ML pipeline that:\n",
    "- Preprocesses the data\n",
    "- Builds and compares multiple models\n",
    "- Validates performance\n",
    "- Predicts sales for the next N days\n"
   ]
  },
  {
   "cell_type": "code",
   "execution_count": 1,
   "id": "cc40774d",
   "metadata": {},
   "outputs": [],
   "source": [
    "# Importing Libaries\n",
    "\n",
    "import pandas as pd\n",
    "import numpy as np\n",
    "import matplotlib.pyplot as plt\n",
    "import seaborn as sns\n",
    "import warnings\n",
    "# Suppress Warnings\n",
    "warnings.filterwarnings('ignore')"
   ]
  },
  {
   "cell_type": "code",
   "execution_count": 2,
   "id": "8af4a163",
   "metadata": {},
   "outputs": [],
   "source": [
    "# Load Dataset\n",
    "df=pd.read_csv(\"dataset.csv\")\n"
   ]
  },
  {
   "cell_type": "code",
   "execution_count": 3,
   "id": "5fcafc93",
   "metadata": {},
   "outputs": [
    {
     "name": "stdout",
     "output_type": "stream",
     "text": [
      "<class 'pandas.core.frame.DataFrame'>\n",
      "RangeIndex: 173 entries, 0 to 172\n",
      "Data columns (total 2 columns):\n",
      " #   Column  Non-Null Count  Dtype \n",
      "---  ------  --------------  ----- \n",
      " 0   DATE    173 non-null    object\n",
      " 1   SALES   173 non-null    int64 \n",
      "dtypes: int64(1), object(1)\n",
      "memory usage: 2.8+ KB\n"
     ]
    }
   ],
   "source": [
    "df.info()"
   ]
  },
  {
   "cell_type": "markdown",
   "id": "15238586",
   "metadata": {},
   "source": [
    "## 🧾 Data Understanding\n",
    "\n",
    "The dataset has two columns:\n",
    "- `Date`: The date of the sale\n",
    "- `Sales`: The number of sales made on that day\n",
    "\n",
    "Parse the dates and perform time-based feature engineering to extract valuable insights for the models.\n"
   ]
  },
  {
   "cell_type": "code",
   "execution_count": 4,
   "id": "d7d9b5f7",
   "metadata": {},
   "outputs": [
    {
     "data": {
      "text/html": [
       "<div>\n",
       "<style scoped>\n",
       "    .dataframe tbody tr th:only-of-type {\n",
       "        vertical-align: middle;\n",
       "    }\n",
       "\n",
       "    .dataframe tbody tr th {\n",
       "        vertical-align: top;\n",
       "    }\n",
       "\n",
       "    .dataframe thead th {\n",
       "        text-align: right;\n",
       "    }\n",
       "</style>\n",
       "<table border=\"1\" class=\"dataframe\">\n",
       "  <thead>\n",
       "    <tr style=\"text-align: right;\">\n",
       "      <th></th>\n",
       "      <th>DATE</th>\n",
       "      <th>SALES</th>\n",
       "    </tr>\n",
       "  </thead>\n",
       "  <tbody>\n",
       "    <tr>\n",
       "      <th>0</th>\n",
       "      <td>9/30/18</td>\n",
       "      <td>39</td>\n",
       "    </tr>\n",
       "    <tr>\n",
       "      <th>1</th>\n",
       "      <td>10/1/18</td>\n",
       "      <td>25</td>\n",
       "    </tr>\n",
       "    <tr>\n",
       "      <th>2</th>\n",
       "      <td>10/2/18</td>\n",
       "      <td>48</td>\n",
       "    </tr>\n",
       "    <tr>\n",
       "      <th>3</th>\n",
       "      <td>10/3/18</td>\n",
       "      <td>32</td>\n",
       "    </tr>\n",
       "    <tr>\n",
       "      <th>4</th>\n",
       "      <td>10/4/18</td>\n",
       "      <td>87</td>\n",
       "    </tr>\n",
       "  </tbody>\n",
       "</table>\n",
       "</div>"
      ],
      "text/plain": [
       "      DATE  SALES\n",
       "0  9/30/18     39\n",
       "1  10/1/18     25\n",
       "2  10/2/18     48\n",
       "3  10/3/18     32\n",
       "4  10/4/18     87"
      ]
     },
     "execution_count": 4,
     "metadata": {},
     "output_type": "execute_result"
    }
   ],
   "source": [
    "df.head()"
   ]
  },
  {
   "cell_type": "code",
   "execution_count": 5,
   "id": "f6a6c704",
   "metadata": {},
   "outputs": [
    {
     "data": {
      "text/plain": [
       "0"
      ]
     },
     "execution_count": 5,
     "metadata": {},
     "output_type": "execute_result"
    }
   ],
   "source": [
    "# Check for duplicates\n",
    "df.duplicated().sum()"
   ]
  },
  {
   "cell_type": "code",
   "execution_count": 6,
   "id": "8640ac9e",
   "metadata": {},
   "outputs": [
    {
     "data": {
      "text/plain": [
       "DATE     0\n",
       "SALES    0\n",
       "dtype: int64"
      ]
     },
     "execution_count": 6,
     "metadata": {},
     "output_type": "execute_result"
    }
   ],
   "source": [
    "# Check missing values\n",
    "df.isnull().sum()"
   ]
  },
  {
   "cell_type": "markdown",
   "id": "16773902",
   "metadata": {},
   "source": [
    "## 🔧 Feature Engineering\n",
    "\n",
    "Extract the following features from the date:\n",
    "- Days Count from the starting sale\n",
    "- Day of the week\n",
    "- Day of the month\n",
    "- Month\n",
    "- Whether it's a weekend\n"
   ]
  },
  {
   "cell_type": "code",
   "execution_count": 7,
   "id": "06ce9939",
   "metadata": {},
   "outputs": [],
   "source": [
    "#data cleaning and preprocessing\n",
    "\n",
    "from datetime import datetime, timedelta"
   ]
  },
  {
   "cell_type": "code",
   "execution_count": 8,
   "id": "9f881eee",
   "metadata": {},
   "outputs": [
    {
     "data": {
      "text/html": [
       "<div>\n",
       "<style scoped>\n",
       "    .dataframe tbody tr th:only-of-type {\n",
       "        vertical-align: middle;\n",
       "    }\n",
       "\n",
       "    .dataframe tbody tr th {\n",
       "        vertical-align: top;\n",
       "    }\n",
       "\n",
       "    .dataframe thead th {\n",
       "        text-align: right;\n",
       "    }\n",
       "</style>\n",
       "<table border=\"1\" class=\"dataframe\">\n",
       "  <thead>\n",
       "    <tr style=\"text-align: right;\">\n",
       "      <th></th>\n",
       "      <th>DATE</th>\n",
       "      <th>SALES</th>\n",
       "      <th>Days</th>\n",
       "    </tr>\n",
       "  </thead>\n",
       "  <tbody>\n",
       "    <tr>\n",
       "      <th>0</th>\n",
       "      <td>2018-09-30</td>\n",
       "      <td>39</td>\n",
       "      <td>0</td>\n",
       "    </tr>\n",
       "    <tr>\n",
       "      <th>1</th>\n",
       "      <td>2018-10-01</td>\n",
       "      <td>25</td>\n",
       "      <td>1</td>\n",
       "    </tr>\n",
       "    <tr>\n",
       "      <th>2</th>\n",
       "      <td>2018-10-02</td>\n",
       "      <td>48</td>\n",
       "      <td>2</td>\n",
       "    </tr>\n",
       "    <tr>\n",
       "      <th>3</th>\n",
       "      <td>2018-10-03</td>\n",
       "      <td>32</td>\n",
       "      <td>3</td>\n",
       "    </tr>\n",
       "    <tr>\n",
       "      <th>4</th>\n",
       "      <td>2018-10-04</td>\n",
       "      <td>87</td>\n",
       "      <td>4</td>\n",
       "    </tr>\n",
       "    <tr>\n",
       "      <th>...</th>\n",
       "      <td>...</td>\n",
       "      <td>...</td>\n",
       "      <td>...</td>\n",
       "    </tr>\n",
       "    <tr>\n",
       "      <th>168</th>\n",
       "      <td>2019-03-21</td>\n",
       "      <td>32</td>\n",
       "      <td>172</td>\n",
       "    </tr>\n",
       "    <tr>\n",
       "      <th>169</th>\n",
       "      <td>2019-03-22</td>\n",
       "      <td>11</td>\n",
       "      <td>173</td>\n",
       "    </tr>\n",
       "    <tr>\n",
       "      <th>170</th>\n",
       "      <td>2019-03-23</td>\n",
       "      <td>22</td>\n",
       "      <td>174</td>\n",
       "    </tr>\n",
       "    <tr>\n",
       "      <th>171</th>\n",
       "      <td>2019-03-24</td>\n",
       "      <td>29</td>\n",
       "      <td>175</td>\n",
       "    </tr>\n",
       "    <tr>\n",
       "      <th>172</th>\n",
       "      <td>2019-03-25</td>\n",
       "      <td>14</td>\n",
       "      <td>176</td>\n",
       "    </tr>\n",
       "  </tbody>\n",
       "</table>\n",
       "<p>173 rows × 3 columns</p>\n",
       "</div>"
      ],
      "text/plain": [
       "          DATE  SALES  Days\n",
       "0   2018-09-30     39     0\n",
       "1   2018-10-01     25     1\n",
       "2   2018-10-02     48     2\n",
       "3   2018-10-03     32     3\n",
       "4   2018-10-04     87     4\n",
       "..         ...    ...   ...\n",
       "168 2019-03-21     32   172\n",
       "169 2019-03-22     11   173\n",
       "170 2019-03-23     22   174\n",
       "171 2019-03-24     29   175\n",
       "172 2019-03-25     14   176\n",
       "\n",
       "[173 rows x 3 columns]"
      ]
     },
     "execution_count": 8,
     "metadata": {},
     "output_type": "execute_result"
    }
   ],
   "source": [
    "df['DATE'] = pd.to_datetime(df['DATE']) #convert text to date\n",
    "df = df.sort_values('DATE') # sort dates in ascending order\n",
    "df['Days'] = (df['DATE'] - df['DATE'].min()).dt.days #count days from start date\n",
    "df\n"
   ]
  },
  {
   "cell_type": "code",
   "execution_count": 9,
   "id": "6eb046d3",
   "metadata": {},
   "outputs": [],
   "source": [
    "def create_features(df):\n",
    "    df['dayofweek'] = df['DATE'].dt.dayofweek  # Monday = 0, Sunday = 6\n",
    "    df['month'] = df['DATE'].dt.month          # Month of the year\n",
    "    df['day'] = df['DATE'].dt.day              # Day of the month\n",
    "    df['is_weekend'] = df['dayofweek'].apply(lambda x: 1 if x >= 5 else 0)\n",
    "    df['Days'] = (df['DATE'] - df['DATE'].min()).dt.days\n",
    "    return df"
   ]
  },
  {
   "cell_type": "code",
   "execution_count": 10,
   "id": "a0e809dc",
   "metadata": {},
   "outputs": [],
   "source": [
    "df= create_features(df)"
   ]
  },
  {
   "cell_type": "code",
   "execution_count": 11,
   "id": "987b91df",
   "metadata": {},
   "outputs": [
    {
     "data": {
      "text/html": [
       "<div>\n",
       "<style scoped>\n",
       "    .dataframe tbody tr th:only-of-type {\n",
       "        vertical-align: middle;\n",
       "    }\n",
       "\n",
       "    .dataframe tbody tr th {\n",
       "        vertical-align: top;\n",
       "    }\n",
       "\n",
       "    .dataframe thead th {\n",
       "        text-align: right;\n",
       "    }\n",
       "</style>\n",
       "<table border=\"1\" class=\"dataframe\">\n",
       "  <thead>\n",
       "    <tr style=\"text-align: right;\">\n",
       "      <th></th>\n",
       "      <th>DATE</th>\n",
       "      <th>SALES</th>\n",
       "      <th>Days</th>\n",
       "      <th>dayofweek</th>\n",
       "      <th>month</th>\n",
       "      <th>day</th>\n",
       "      <th>is_weekend</th>\n",
       "    </tr>\n",
       "  </thead>\n",
       "  <tbody>\n",
       "    <tr>\n",
       "      <th>0</th>\n",
       "      <td>2018-09-30</td>\n",
       "      <td>39</td>\n",
       "      <td>0</td>\n",
       "      <td>6</td>\n",
       "      <td>9</td>\n",
       "      <td>30</td>\n",
       "      <td>1</td>\n",
       "    </tr>\n",
       "    <tr>\n",
       "      <th>1</th>\n",
       "      <td>2018-10-01</td>\n",
       "      <td>25</td>\n",
       "      <td>1</td>\n",
       "      <td>0</td>\n",
       "      <td>10</td>\n",
       "      <td>1</td>\n",
       "      <td>0</td>\n",
       "    </tr>\n",
       "    <tr>\n",
       "      <th>2</th>\n",
       "      <td>2018-10-02</td>\n",
       "      <td>48</td>\n",
       "      <td>2</td>\n",
       "      <td>1</td>\n",
       "      <td>10</td>\n",
       "      <td>2</td>\n",
       "      <td>0</td>\n",
       "    </tr>\n",
       "    <tr>\n",
       "      <th>3</th>\n",
       "      <td>2018-10-03</td>\n",
       "      <td>32</td>\n",
       "      <td>3</td>\n",
       "      <td>2</td>\n",
       "      <td>10</td>\n",
       "      <td>3</td>\n",
       "      <td>0</td>\n",
       "    </tr>\n",
       "    <tr>\n",
       "      <th>4</th>\n",
       "      <td>2018-10-04</td>\n",
       "      <td>87</td>\n",
       "      <td>4</td>\n",
       "      <td>3</td>\n",
       "      <td>10</td>\n",
       "      <td>4</td>\n",
       "      <td>0</td>\n",
       "    </tr>\n",
       "    <tr>\n",
       "      <th>...</th>\n",
       "      <td>...</td>\n",
       "      <td>...</td>\n",
       "      <td>...</td>\n",
       "      <td>...</td>\n",
       "      <td>...</td>\n",
       "      <td>...</td>\n",
       "      <td>...</td>\n",
       "    </tr>\n",
       "    <tr>\n",
       "      <th>168</th>\n",
       "      <td>2019-03-21</td>\n",
       "      <td>32</td>\n",
       "      <td>172</td>\n",
       "      <td>3</td>\n",
       "      <td>3</td>\n",
       "      <td>21</td>\n",
       "      <td>0</td>\n",
       "    </tr>\n",
       "    <tr>\n",
       "      <th>169</th>\n",
       "      <td>2019-03-22</td>\n",
       "      <td>11</td>\n",
       "      <td>173</td>\n",
       "      <td>4</td>\n",
       "      <td>3</td>\n",
       "      <td>22</td>\n",
       "      <td>0</td>\n",
       "    </tr>\n",
       "    <tr>\n",
       "      <th>170</th>\n",
       "      <td>2019-03-23</td>\n",
       "      <td>22</td>\n",
       "      <td>174</td>\n",
       "      <td>5</td>\n",
       "      <td>3</td>\n",
       "      <td>23</td>\n",
       "      <td>1</td>\n",
       "    </tr>\n",
       "    <tr>\n",
       "      <th>171</th>\n",
       "      <td>2019-03-24</td>\n",
       "      <td>29</td>\n",
       "      <td>175</td>\n",
       "      <td>6</td>\n",
       "      <td>3</td>\n",
       "      <td>24</td>\n",
       "      <td>1</td>\n",
       "    </tr>\n",
       "    <tr>\n",
       "      <th>172</th>\n",
       "      <td>2019-03-25</td>\n",
       "      <td>14</td>\n",
       "      <td>176</td>\n",
       "      <td>0</td>\n",
       "      <td>3</td>\n",
       "      <td>25</td>\n",
       "      <td>0</td>\n",
       "    </tr>\n",
       "  </tbody>\n",
       "</table>\n",
       "<p>173 rows × 7 columns</p>\n",
       "</div>"
      ],
      "text/plain": [
       "          DATE  SALES  Days  dayofweek  month  day  is_weekend\n",
       "0   2018-09-30     39     0          6      9   30           1\n",
       "1   2018-10-01     25     1          0     10    1           0\n",
       "2   2018-10-02     48     2          1     10    2           0\n",
       "3   2018-10-03     32     3          2     10    3           0\n",
       "4   2018-10-04     87     4          3     10    4           0\n",
       "..         ...    ...   ...        ...    ...  ...         ...\n",
       "168 2019-03-21     32   172          3      3   21           0\n",
       "169 2019-03-22     11   173          4      3   22           0\n",
       "170 2019-03-23     22   174          5      3   23           1\n",
       "171 2019-03-24     29   175          6      3   24           1\n",
       "172 2019-03-25     14   176          0      3   25           0\n",
       "\n",
       "[173 rows x 7 columns]"
      ]
     },
     "execution_count": 11,
     "metadata": {},
     "output_type": "execute_result"
    }
   ],
   "source": [
    "df"
   ]
  },
  {
   "cell_type": "code",
   "execution_count": 12,
   "id": "7067abb1",
   "metadata": {},
   "outputs": [
    {
     "data": {
      "image/png": "[encoded data removed]",
      "text/plain": [
       "<Figure size 1000x400 with 1 Axes>"
      ]
     },
     "metadata": {},
     "output_type": "display_data"
    }
   ],
   "source": [
    "# Plot the sales data\n",
    "plt.figure(figsize=(10, 4))\n",
    "sns.lineplot(x='DATE', y='SALES', data=df)\n",
    "plt.title(\"Bakery Sales Over Time\")\n",
    "plt.xlabel(\"Date\")\n",
    "plt.ylabel(\"Sales\")\n",
    "plt.tight_layout()\n",
    "plt.show()\n"
   ]
  },
  {
   "cell_type": "code",
   "execution_count": 13,
   "id": "59ad649b",
   "metadata": {},
   "outputs": [
    {
     "data": {
      "image/png": "[encoded data removed]",
      "text/plain": [
       "<Figure size 640x480 with 1 Axes>"
      ]
     },
     "metadata": {},
     "output_type": "display_data"
    }
   ],
   "source": [
    "\n",
    "sns.histplot(df['SALES'], bins=20, kde=True)\n",
    "plt.title('Distribution of Daily Sales', fontsize=14)\n",
    "plt.xlabel('Sales')\n",
    "plt.ylabel('Frequency')\n",
    "plt.grid(True, alpha=0.3)"
   ]
  },
  {
   "cell_type": "code",
   "execution_count": 14,
   "id": "1a57fc2c",
   "metadata": {},
   "outputs": [
    {
     "data": {
      "text/plain": [
       "<Figure size 1000x400 with 0 Axes>"
      ]
     },
     "metadata": {},
     "output_type": "display_data"
    },
    {
     "data": {
      "image/png": "[encoded data removed]",
      "text/plain": [
       "<Figure size 640x480 with 1 Axes>"
      ]
     },
     "metadata": {},
     "output_type": "display_data"
    }
   ],
   "source": [
    "from statsmodels.graphics.tsaplots import plot_acf\n",
    "import matplotlib.pyplot as plt\n",
    "\n",
    "plt.figure(figsize=(10, 4))\n",
    "plot_acf(df['SALES'], lags=30)\n",
    "plt.title(\"Autocorrelation (ACF) of Sales\")\n",
    "plt.xlabel('Lag')\n",
    "plt.ylabel('Correlation')\n",
    "plt.show()\n"
   ]
  },
  {
   "cell_type": "markdown",
   "id": "0014c99d",
   "metadata": {},
   "source": [
    "The ACF plot shows that sales today are somewhat related to sales on the previous day (Lag 1). However, there are no strong repeating patterns over time (like every 7 days), which means:\n",
    "\n",
    "There is a short-term correlation (yesterday affects today),\n",
    "\n",
    "But no clear seasonality (no regular weekly or monthly pattern)."
   ]
  },
  {
   "cell_type": "markdown",
   "id": "032830c2",
   "metadata": {},
   "source": [
    "### Since Seasonality or autocorrelation patterns are unclear, we’re treating the problem more like **regression over time**, rather than classical time series modeling(ARIMA)."
   ]
  },
  {
   "cell_type": "markdown",
   "id": "02f9a5b9",
   "metadata": {},
   "source": [
    "## 🏗️ Model Building\n",
    "\n",
    "Here two models are used:\n",
    "1. **Linear Regression** — A baseline model to capture linear trends.\n",
    "2. **Random Forest Regressor** — A non-linear model that can capture complex relationships.\n",
    "\n",
    "Compare their performance based on RMSE and R².\n"
   ]
  },
  {
   "cell_type": "code",
   "execution_count": 15,
   "id": "ef5861ba",
   "metadata": {},
   "outputs": [],
   "source": [
    "from sklearn.linear_model import LinearRegression\n",
    "from sklearn.ensemble import RandomForestRegressor\n",
    "from xgboost import XGBRegressor\n",
    "from sklearn.model_selection import train_test_split\n",
    "from sklearn.metrics import mean_squared_error, r2_score,mean_absolute_error\n",
    "\n",
    "from sklearn.model_selection import TimeSeriesSplit, cross_val_score\n"
   ]
  },
  {
   "cell_type": "code",
   "execution_count": 16,
   "id": "53531161",
   "metadata": {},
   "outputs": [],
   "source": [
    "# Define features and target variable\n",
    "feature_cols = ['Days', 'dayofweek', 'month', 'day', 'is_weekend']\n",
    "X = df[feature_cols]\n",
    "y = df['SALES']\n",
    "\n"
   ]
  },
  {
   "cell_type": "code",
   "execution_count": 17,
   "id": "00fa059e",
   "metadata": {},
   "outputs": [
    {
     "name": "stdout",
     "output_type": "stream",
     "text": [
      "Average Cross-Validation RMSE: 25.83\n"
     ]
    }
   ],
   "source": [
    "# Assuming X and y are your features and target after feature engineering\n",
    "tscv = TimeSeriesSplit(n_splits=5)\n",
    "\n",
    "# Initialize the model\n",
    "rf_model = RandomForestRegressor(n_estimators=100, random_state=42)\n",
    "\n",
    "# Perform time series cross-validation using negative RMSE as scoring\n",
    "cv_scores = cross_val_score(rf_model, X, y, cv=tscv, scoring='neg_root_mean_squared_error')\n",
    "\n",
    "# Convert negative scores to positive RMSE and calculate average\n",
    "avg_rmse = -np.mean(cv_scores)\n",
    "\n",
    "print(f\"Average Cross-Validation RMSE: {avg_rmse:.2f}\")\n",
    "\n",
    "# Interpretation:\n",
    "# Lower RMSE means better generalization across different time splits."
   ]
  },
  {
   "cell_type": "code",
   "execution_count": 18,
   "id": "3db15b2e",
   "metadata": {},
   "outputs": [],
   "source": [
    "# Split the data into training and testing sets\n",
    "X_train, X_test, y_train, y_test = train_test_split(X, y, test_size=0.2, random_state=42)\n"
   ]
  },
  {
   "cell_type": "code",
   "execution_count": 19,
   "id": "ccc51cee",
   "metadata": {},
   "outputs": [
    {
     "data": {
      "application/javascript": [
       "\n",
       "        if (window._pyforest_update_imports_cell) { window._pyforest_update_imports_cell('from sklearn.preprocessing import StandardScaler'); }\n",
       "    "
      ],
      "text/plain": [
       "<IPython.core.display.Javascript object>"
      ]
     },
     "metadata": {},
     "output_type": "display_data"
    }
   ],
   "source": [
    "# Scale the features\n",
    "scaler = StandardScaler()\n",
    "X_train_scaled = scaler.fit_transform(X_train)\n",
    "X_test_scaled = scaler.transform(X_test)\n"
   ]
  },
  {
   "cell_type": "code",
   "execution_count": 20,
   "id": "3dc3b33c",
   "metadata": {},
   "outputs": [],
   "source": [
    "# Initialize the models\n",
    "lr_model = LinearRegression()\n",
    "rf_model = RandomForestRegressor(random_state=42)\n",
    "xgb_model = XGBRegressor(n_estimators=100, random_state=42)\n",
    "\n"
   ]
  },
  {
   "cell_type": "code",
   "execution_count": 21,
   "id": "1a5da580",
   "metadata": {},
   "outputs": [
    {
     "data": {
      "text/html": [
       "<style>#sk-container-id-1 {color: black;background-color: white;}#sk-container-id-1 pre{padding: 0;}#sk-container-id-1 div.sk-toggleable {background-color: white;}#sk-container-id-1 label.sk-toggleable__label {cursor: pointer;display: block;width: 100%;margin-bottom: 0;padding: 0.3em;box-sizing: border-box;text-align: center;}#sk-container-id-1 label.sk-toggleable__label-arrow:before {content: \"▸\";float: left;margin-right: 0.25em;color: #696969;}#sk-container-id-1 label.sk-toggleable__label-arrow:hover:before {color: black;}#sk-container-id-1 div.sk-estimator:hover label.sk-toggleable__label-arrow:before {color: black;}#sk-container-id-1 div.sk-toggleable__content {max-height: 0;max-width: 0;overflow: hidden;text-align: left;background-color: #f0f8ff;}#sk-container-id-1 div.sk-toggleable__content pre {margin: 0.2em;color: black;border-radius: 0.25em;background-color: #f0f8ff;}#sk-container-id-1 input.sk-toggleable__control:checked~div.sk-toggleable__content {max-height: 200px;max-width: 100%;overflow: auto;}#sk-container-id-1 input.sk-toggleable__control:checked~label.sk-toggleable__label-arrow:before {content: \"▾\";}#sk-container-id-1 div.sk-estimator input.sk-toggleable__control:checked~label.sk-toggleable__label {background-color: #d4ebff;}#sk-container-id-1 div.sk-label input.sk-toggleable__control:checked~label.sk-toggleable__label {background-color: #d4ebff;}#sk-container-id-1 input.sk-hidden--visually {border: 0;clip: rect(1px 1px 1px 1px);clip: rect(1px, 1px, 1px, 1px);height: 1px;margin: -1px;overflow: hidden;padding: 0;position: absolute;width: 1px;}#sk-container-id-1 div.sk-estimator {font-family: monospace;background-color: #f0f8ff;border: 1px dotted black;border-radius: 0.25em;box-sizing: border-box;margin-bottom: 0.5em;}#sk-container-id-1 div.sk-estimator:hover {background-color: #d4ebff;}#sk-container-id-1 div.sk-parallel-item::after {content: \"\";width: 100%;border-bottom: 1px solid gray;flex-grow: 1;}#sk-container-id-1 div.sk-label:hover label.sk-toggleable__label {background-color: #d4ebff;}#sk-container-id-1 div.sk-serial::before {content: \"\";position: absolute;border-left: 1px solid gray;box-sizing: border-box;top: 0;bottom: 0;left: 50%;z-index: 0;}#sk-container-id-1 div.sk-serial {display: flex;flex-direction: column;align-items: center;background-color: white;padding-right: 0.2em;padding-left: 0.2em;position: relative;}#sk-container-id-1 div.sk-item {position: relative;z-index: 1;}#sk-container-id-1 div.sk-parallel {display: flex;align-items: stretch;justify-content: center;background-color: white;position: relative;}#sk-container-id-1 div.sk-item::before, #sk-container-id-1 div.sk-parallel-item::before {content: \"\";position: absolute;border-left: 1px solid gray;box-sizing: border-box;top: 0;bottom: 0;left: 50%;z-index: -1;}#sk-container-id-1 div.sk-parallel-item {display: flex;flex-direction: column;z-index: 1;position: relative;background-color: white;}#sk-container-id-1 div.sk-parallel-item:first-child::after {align-self: flex-end;width: 50%;}#sk-container-id-1 div.sk-parallel-item:last-child::after {align-self: flex-start;width: 50%;}#sk-container-id-1 div.sk-parallel-item:only-child::after {width: 0;}#sk-container-id-1 div.sk-dashed-wrapped {border: 1px dashed gray;margin: 0 0.4em 0.5em 0.4em;box-sizing: border-box;padding-bottom: 0.4em;background-color: white;}#sk-container-id-1 div.sk-label label {font-family: monospace;font-weight: bold;display: inline-block;line-height: 1.2em;}#sk-container-id-1 div.sk-label-container {text-align: center;}#sk-container-id-1 div.sk-container {/* jupyter's `normalize.less` sets `[hidden] { display: none; }` but bootstrap.min.css set `[hidden] { display: none !important; }` so we also need the `!important` here to be able to override the default hidden behavior on the sphinx rendered scikit-learn.org. See: https://github.com/scikit-learn/scikit-learn/issues/21755 */display: inline-block !important;position: relative;}#sk-container-id-1 div.sk-text-repr-fallback {display: none;}</style><div id=\"sk-container-id-1\" class=\"sk-top-container\"><div class=\"sk-text-repr-fallback\"><pre>XGBRegressor(base_score=None, booster=None, callbacks=None,\n",
       "             colsample_bylevel=None, colsample_bynode=None,\n",
       "             colsample_bytree=None, device=None, early_stopping_rounds=None,\n",
       "             enable_categorical=False, eval_metric=None, feature_types=None,\n",
       "             gamma=None, grow_policy=None, importance_type=None,\n",
       "             interaction_constraints=None, learning_rate=None, max_bin=None,\n",
       "             max_cat_threshold=None, max_cat_to_onehot=None,\n",
       "             max_delta_step=None, max_depth=None, max_leaves=None,\n",
       "             min_child_weight=None, missing=nan, monotone_constraints=None,\n",
       "             multi_strategy=None, n_estimators=100, n_jobs=None,\n",
       "             num_parallel_tree=None, random_state=42, ...)</pre><b>In a Jupyter environment, please rerun this cell to show the HTML representation or trust the notebook. <br />On GitHub, the HTML representation is unable to render, please try loading this page with nbviewer.org.</b></div><div class=\"sk-container\" hidden><div class=\"sk-item\"><div class=\"sk-estimator sk-toggleable\"><input class=\"sk-toggleable__control sk-hidden--visually\" id=\"sk-estimator-id-1\" type=\"checkbox\" checked><label for=\"sk-estimator-id-1\" class=\"sk-toggleable__label sk-toggleable__label-arrow\">XGBRegressor</label><div class=\"sk-toggleable__content\"><pre>XGBRegressor(base_score=None, booster=None, callbacks=None,\n",
       "             colsample_bylevel=None, colsample_bynode=None,\n",
       "             colsample_bytree=None, device=None, early_stopping_rounds=None,\n",
       "             enable_categorical=False, eval_metric=None, feature_types=None,\n",
       "             gamma=None, grow_policy=None, importance_type=None,\n",
       "             interaction_constraints=None, learning_rate=None, max_bin=None,\n",
       "             max_cat_threshold=None, max_cat_to_onehot=None,\n",
       "             max_delta_step=None, max_depth=None, max_leaves=None,\n",
       "             min_child_weight=None, missing=nan, monotone_constraints=None,\n",
       "             multi_strategy=None, n_estimators=100, n_jobs=None,\n",
       "             num_parallel_tree=None, random_state=42, ...)</pre></div></div></div></div></div>"
      ],
      "text/plain": [
       "XGBRegressor(base_score=None, booster=None, callbacks=None,\n",
       "             colsample_bylevel=None, colsample_bynode=None,\n",
       "             colsample_bytree=None, device=None, early_stopping_rounds=None,\n",
       "             enable_categorical=False, eval_metric=None, feature_types=None,\n",
       "             gamma=None, grow_policy=None, importance_type=None,\n",
       "             interaction_constraints=None, learning_rate=None, max_bin=None,\n",
       "             max_cat_threshold=None, max_cat_to_onehot=None,\n",
       "             max_delta_step=None, max_depth=None, max_leaves=None,\n",
       "             min_child_weight=None, missing=nan, monotone_constraints=None,\n",
       "             multi_strategy=None, n_estimators=100, n_jobs=None,\n",
       "             num_parallel_tree=None, random_state=42, ...)"
      ]
     },
     "execution_count": 21,
     "metadata": {},
     "output_type": "execute_result"
    }
   ],
   "source": [
    "# Train the models\n",
    "lr_model.fit(X_train_scaled, y_train)\n",
    "rf_model.fit(X_train_scaled, y_train)\n",
    "xgb_model.fit(X_train_scaled, y_train)"
   ]
  },
  {
   "cell_type": "code",
   "execution_count": 22,
   "id": "aca0c394",
   "metadata": {},
   "outputs": [],
   "source": [
    "# Make predictions\n",
    "linear_predictions = lr_model.predict(X_test_scaled)\n",
    "rf_predictions = rf_model.predict(X_test_scaled)\n",
    "xgb_predictions = xgb_model.predict(X_test_scaled)\n"
   ]
  },
  {
   "cell_type": "markdown",
   "id": "5c5b51fc",
   "metadata": {},
   "source": [
    "## 📈 Model  Evaluation & Comparison\n",
    "\n",
    "Below is a evalauation and comparison of the models using standard regression metrics.\n"
   ]
  },
  {
   "cell_type": "code",
   "execution_count": 23,
   "id": "27351407",
   "metadata": {},
   "outputs": [],
   "source": [
    "# Evaluate the models\n",
    "linear_mse = np.sqrt(mean_squared_error(y_test, linear_predictions))\n",
    "rf_mse = np.sqrt(mean_squared_error(y_test, rf_predictions))\n",
    "xgb_mse = np.sqrt(mean_squared_error(y_test, xgb_predictions))\n",
    "\n",
    "linear_mae = mean_absolute_error(y_test, linear_predictions)\n",
    "rf_mae = mean_absolute_error(y_test, rf_predictions)\n",
    "xgb_mae = mean_absolute_error(y_test, xgb_predictions)\n",
    "\n",
    "linear_r2score=r2_score(y_test, linear_predictions)\n",
    "rf_r2score=r2_score(y_test, rf_predictions)\n",
    "xgb_r2score=r2_score(y_test, xgb_predictions)"
   ]
  },
  {
   "cell_type": "code",
   "execution_count": 24,
   "id": "cc298734",
   "metadata": {},
   "outputs": [
    {
     "data": {
      "text/html": [
       "<div>\n",
       "<style scoped>\n",
       "    .dataframe tbody tr th:only-of-type {\n",
       "        vertical-align: middle;\n",
       "    }\n",
       "\n",
       "    .dataframe tbody tr th {\n",
       "        vertical-align: top;\n",
       "    }\n",
       "\n",
       "    .dataframe thead th {\n",
       "        text-align: right;\n",
       "    }\n",
       "</style>\n",
       "<table border=\"1\" class=\"dataframe\">\n",
       "  <thead>\n",
       "    <tr style=\"text-align: right;\">\n",
       "      <th></th>\n",
       "      <th>Model</th>\n",
       "      <th>R2 Score</th>\n",
       "      <th>RMSE</th>\n",
       "      <th>MAE</th>\n",
       "    </tr>\n",
       "  </thead>\n",
       "  <tbody>\n",
       "    <tr>\n",
       "      <th>0</th>\n",
       "      <td>Linear Regression</td>\n",
       "      <td>0.202582</td>\n",
       "      <td>31.829955</td>\n",
       "      <td>21.386702</td>\n",
       "    </tr>\n",
       "    <tr>\n",
       "      <th>1</th>\n",
       "      <td>Random Forest Regressor</td>\n",
       "      <td>0.329009</td>\n",
       "      <td>29.197893</td>\n",
       "      <td>21.805429</td>\n",
       "    </tr>\n",
       "    <tr>\n",
       "      <th>2</th>\n",
       "      <td>Xtreme Gradient Boosting</td>\n",
       "      <td>0.278180</td>\n",
       "      <td>30.283597</td>\n",
       "      <td>21.805429</td>\n",
       "    </tr>\n",
       "  </tbody>\n",
       "</table>\n",
       "</div>"
      ],
      "text/plain": [
       "                      Model  R2 Score       RMSE        MAE\n",
       "0         Linear Regression  0.202582  31.829955  21.386702\n",
       "1   Random Forest Regressor  0.329009  29.197893  21.805429\n",
       "2  Xtreme Gradient Boosting  0.278180  30.283597  21.805429"
      ]
     },
     "execution_count": 24,
     "metadata": {},
     "output_type": "execute_result"
    }
   ],
   "source": [
    "# Prepare results\n",
    "model_comparison = {\n",
    "    \"Model\": [\"Linear Regression\", \"Random Forest Regressor\", \"Xtreme Gradient Boosting\"],\n",
    "    \"R2 Score\":[linear_r2score,rf_r2score,xgb_r2score],\n",
    "    \"RMSE\": [linear_mse, rf_mse,xgb_mse],\n",
    "    \"MAE\": [linear_mae, rf_mae,rf_mae]\n",
    "}\n",
    "\n",
    "comparison_df = pd.DataFrame(model_comparison)\n",
    "comparison_df\n"
   ]
  },
  {
   "cell_type": "markdown",
   "id": "4df728af",
   "metadata": {},
   "source": [
    "### Hyper Parameter Tuning"
   ]
  },
  {
   "cell_type": "code",
   "execution_count": 25,
   "id": "810bc97f",
   "metadata": {},
   "outputs": [],
   "source": [
    "from sklearn.model_selection import GridSearchCV"
   ]
  },
  {
   "cell_type": "code",
   "execution_count": 26,
   "id": "ef075874",
   "metadata": {},
   "outputs": [
    {
     "name": "stdout",
     "output_type": "stream",
     "text": [
      "Fitting 5 folds for each of 24 candidates, totalling 120 fits\n",
      "Best RF Parameters: {'max_depth': 10, 'min_samples_leaf': 2, 'min_samples_split': 2, 'n_estimators': 100}\n",
      "Best RF R2 Score: 0.3543689834529939\n"
     ]
    }
   ],
   "source": [
    "rf_param_grid = {\n",
    "    'n_estimators': [50, 100, 200],\n",
    "    'max_depth': [10, 20],\n",
    "    'min_samples_split': [2, 5],\n",
    "    'min_samples_leaf': [1, 2]\n",
    "}\n",
    "\n",
    "rf_grid_search = GridSearchCV(\n",
    "    estimator=RandomForestRegressor(random_state=42),\n",
    "    param_grid=rf_param_grid,\n",
    "    cv=5,\n",
    "    n_jobs=-1,\n",
    "    scoring='r2',\n",
    "    verbose=2\n",
    ")\n",
    "\n",
    "rf_grid_search.fit(X_train_scaled, y_train)\n",
    "\n",
    "print(\"Best RF Parameters:\", rf_grid_search.best_params_)\n",
    "print(\"Best RF R2 Score:\", rf_grid_search.best_score_)"
   ]
  },
  {
   "cell_type": "code",
   "execution_count": 27,
   "id": "783d5dae",
   "metadata": {},
   "outputs": [],
   "source": [
    "rf_model1 = RandomForestRegressor(n_estimators=100,max_depth=10,min_samples_leaf=2, min_samples_split=2,random_state=42)\n",
    "rf_model1.fit(X_train_scaled, y_train)\n",
    "rf_predictions1 = rf_model1.predict(X_test_scaled)\n"
   ]
  },
  {
   "cell_type": "code",
   "execution_count": 28,
   "id": "854def8f",
   "metadata": {},
   "outputs": [],
   "source": [
    "rf_mse1 = np.sqrt(mean_squared_error(y_test, rf_predictions1))\n",
    "rf_mae1= mean_absolute_error(y_test, rf_predictions1)\n",
    "rf_r2score1=r2_score(y_test, rf_predictions1)\n"
   ]
  },
  {
   "cell_type": "markdown",
   "id": "296e8556",
   "metadata": {},
   "source": [
    "## 📈 Model  Evaluation & Comparison After Hyperparameter tuning:\n",
    "\n",
    "Below is a evalauation and comparison of the models using standard regression metrics."
   ]
  },
  {
   "cell_type": "code",
   "execution_count": 29,
   "id": "b7cced9f",
   "metadata": {},
   "outputs": [
    {
     "data": {
      "text/html": [
       "<div>\n",
       "<style scoped>\n",
       "    .dataframe tbody tr th:only-of-type {\n",
       "        vertical-align: middle;\n",
       "    }\n",
       "\n",
       "    .dataframe tbody tr th {\n",
       "        vertical-align: top;\n",
       "    }\n",
       "\n",
       "    .dataframe thead th {\n",
       "        text-align: right;\n",
       "    }\n",
       "</style>\n",
       "<table border=\"1\" class=\"dataframe\">\n",
       "  <thead>\n",
       "    <tr style=\"text-align: right;\">\n",
       "      <th></th>\n",
       "      <th>Model</th>\n",
       "      <th>R2 Score</th>\n",
       "      <th>RMSE</th>\n",
       "      <th>MAE</th>\n",
       "    </tr>\n",
       "  </thead>\n",
       "  <tbody>\n",
       "    <tr>\n",
       "      <th>0</th>\n",
       "      <td>Linear Regression</td>\n",
       "      <td>0.202582</td>\n",
       "      <td>31.829955</td>\n",
       "      <td>21.386702</td>\n",
       "    </tr>\n",
       "    <tr>\n",
       "      <th>1</th>\n",
       "      <td>Random Forest Regressor</td>\n",
       "      <td>0.327309</td>\n",
       "      <td>29.234861</td>\n",
       "      <td>21.785767</td>\n",
       "    </tr>\n",
       "  </tbody>\n",
       "</table>\n",
       "</div>"
      ],
      "text/plain": [
       "                     Model  R2 Score       RMSE        MAE\n",
       "0        Linear Regression  0.202582  31.829955  21.386702\n",
       "1  Random Forest Regressor  0.327309  29.234861  21.785767"
      ]
     },
     "execution_count": 29,
     "metadata": {},
     "output_type": "execute_result"
    }
   ],
   "source": [
    "# Prepare results\n",
    "model_comparison = {\n",
    "    \"Model\": [\"Linear Regression\", \"Random Forest Regressor\"],\n",
    "    \"R2 Score\":[linear_r2score,rf_r2score1],\n",
    "    \"RMSE\": [linear_mse, rf_mse1],\n",
    "    \"MAE\": [linear_mae, rf_mae1]\n",
    "}\n",
    "\n",
    "comparison_df = pd.DataFrame(model_comparison)\n",
    "comparison_df"
   ]
  },
  {
   "cell_type": "markdown",
   "id": "82008e3e",
   "metadata": {},
   "source": [
    "## ✅ Model Selection Justification\n",
    "\n",
    "Based on the evaluation metrics:\n",
    "- **Random Forest** outperformed Linear Regression with a lower RMSE and higher R².\n",
    "- This indicates Random Forest is better suited to capture non-linear patterns and is selected as the final model.\n"
   ]
  },
  {
   "cell_type": "code",
   "execution_count": 30,
   "id": "76d7ef70",
   "metadata": {},
   "outputs": [
    {
     "data": {
      "text/plain": [
       "['rf_model.pkl']"
      ]
     },
     "execution_count": 30,
     "metadata": {},
     "output_type": "execute_result"
    }
   ],
   "source": [
    "# Save the model for future use\n",
    "import joblib\n",
    "joblib.dump(rf_model, 'rf_model.pkl')"
   ]
  },
  {
   "cell_type": "markdown",
   "id": "21e3a605",
   "metadata": {},
   "source": [
    "### Model Validation"
   ]
  },
  {
   "cell_type": "code",
   "execution_count": 31,
   "id": "d859845e",
   "metadata": {},
   "outputs": [
    {
     "name": "stdout",
     "output_type": "stream",
     "text": [
      "Average Cross-Validation RMSE: 25.83\n"
     ]
    }
   ],
   "source": [
    "\n",
    "from sklearn.model_selection import TimeSeriesSplit, cross_val_score\n",
    "\n",
    "tscv = TimeSeriesSplit(n_splits=5)\n",
    "rf_cv_scores = cross_val_score(RandomForestRegressor(n_estimators=100, random_state=42), X, y, cv=tscv, scoring='neg_root_mean_squared_error')\n",
    "\n",
    "print(f\"Average Cross-Validation RMSE: {-np.mean(rf_cv_scores):.2f}\")\n"
   ]
  },
  {
   "cell_type": "markdown",
   "id": "6ea346dc",
   "metadata": {},
   "source": [
    "## 🧪 Cross-Validation\n",
    "\n",
    "Used Time Series Cross-Validation to validate the model's generalization ability. This ensuresto avoid data leakage and preserve temporal ordering.\n"
   ]
  },
  {
   "cell_type": "markdown",
   "id": "8203dac0",
   "metadata": {},
   "source": [
    "## 📉 Visual Validation: Actual vs Predicted Sales\n",
    "\n",
    "The plot below compares the actual sales with the predicted values from the Random Forest model on the test dataset.\n",
    "\n"
   ]
  },
  {
   "cell_type": "code",
   "execution_count": 32,
   "id": "cee4e4d4",
   "metadata": {},
   "outputs": [
    {
     "data": {
      "image/png": "[encoded data removed]",
      "text/plain": [
       "<Figure size 640x480 with 1 Axes>"
      ]
     },
     "metadata": {},
     "output_type": "display_data"
    }
   ],
   "source": [
    "plt.plot(y_test.values, label='Actual')\n",
    "plt.plot(rf_predictions1, label='Predicted')\n",
    "plt.xlabel('Days')\n",
    "plt.ylabel('sales')\n",
    "plt.legend()\n",
    "plt.title(\"Actual vs Predicted Sales\")\n",
    "plt.show()\n"
   ]
  },
  {
   "cell_type": "markdown",
   "id": "9a61525b",
   "metadata": {},
   "source": [
    "## 🔮 Future Forecasting\n",
    "\n",
    "Generate predictions for the next N days by creating new rows with appropriate date features and using the trained model to predict sales.\n"
   ]
  },
  {
   "cell_type": "code",
   "execution_count": 33,
   "id": "a5d7d3fa",
   "metadata": {},
   "outputs": [],
   "source": [
    "def predict_sales(n_days, df, lr_model, rf_model, xgb_model,scaler, feature_cols):\n",
    "    # Generate future dates\n",
    "    last_date = df['DATE'].max()\n",
    "    future_dates = pd.date_range(start=last_date + timedelta(days=1), periods=n_days)\n",
    "    \n",
    "    # Create DataFrame for future dates\n",
    "    future_df = pd.DataFrame({'DATE': future_dates})\n",
    "    \n",
    "    # Apply same feature engineering\n",
    "    future_df = create_features(future_df)\n",
    "    \n",
    "    # Select features\n",
    "    X_future = future_df[feature_cols]\n",
    "    \n",
    "    # Scale features\n",
    "    X_future_scaled = scaler.transform(X_future)\n",
    "    \n",
    "    # Predict\n",
    "    linear_future_predictions = lr_model.predict(X_future_scaled)\n",
    "    rf_future_predictions = rf_model.predict(X_future_scaled)\n",
    "    xgb_future_predictions = xgb_model.predict(X_future_scaled)\n",
    "    \n",
    "    return linear_future_predictions, rf_future_predictions, xgb_future_predictions,future_dates\n"
   ]
  },
  {
   "cell_type": "code",
   "execution_count": 34,
   "id": "a6f1a122",
   "metadata": {},
   "outputs": [],
   "source": [
    "n=6\n",
    "linear_future_predictions, rf_future_predictions, xgb_future_predictions,future_dates = predict_sales(n, df, lr_model, rf_model,xgb_model, scaler, feature_cols)\n"
   ]
  },
  {
   "cell_type": "code",
   "execution_count": 35,
   "id": "a4071510",
   "metadata": {},
   "outputs": [],
   "source": [
    "n = 6  # or whatever value of N\n",
    "last_date = df['DATE'].iloc[-1]  # to get the last date\n",
    "future_dates = pd.date_range(start=last_date + pd.Timedelta(days=1), periods=n)\n",
    "future_sales = pd.DataFrame({'Date': future_dates, 'Linear_Predictions': linear_future_predictions,\n",
    "                             'RF_Predictions': rf_future_predictions,'XGB_Predictions':xgb_future_predictions})"
   ]
  },
  {
   "cell_type": "code",
   "execution_count": 36,
   "id": "873bca69",
   "metadata": {},
   "outputs": [
    {
     "name": "stdout",
     "output_type": "stream",
     "text": [
      "        Date  Linear_Predictions  RF_Predictions  XGB_Predictions\n",
      "0 2019-03-26           21.363483           38.91        43.398693\n",
      "1 2019-03-27           20.095742           39.46        40.578346\n",
      "2 2019-03-28           18.828001           49.00        44.047859\n",
      "3 2019-03-29           17.560260           56.49        43.972439\n",
      "4 2019-03-30           13.508500           45.23        44.378586\n",
      "5 2019-03-31           12.240759           40.04        38.367115\n"
     ]
    }
   ],
   "source": [
    "# Display the future predictions\n",
    "print(future_sales)\n"
   ]
  },
  {
   "cell_type": "markdown",
   "id": "70bccd70",
   "metadata": {},
   "source": [
    "The model is able to follow the general trend of the sales data, which means it's learning some patterns. However, it misses the sharp spikes in actual sales — it predicts smoother values instead.\n",
    "\n",
    "The model works well for normal days.\n",
    "\n",
    "But it's not great at predicting sudden changes (like very high or very low sales).\n",
    "\n",
    "To improve, we could try adding more features (like holidays or promotions) or use a more advanced model."
   ]
  },
  {
   "cell_type": "code",
   "execution_count": null,
   "id": "380ac5d5",
   "metadata": {},
   "outputs": [],
   "source": []
  },
  {
   "cell_type": "markdown",
   "id": "df104843",
   "metadata": {},
   "source": [
    "# System Diagram \n",
    "\n"
   ]
  },
  {
   "cell_type": "markdown",
   "id": "70df8eab",
   "metadata": {},
   "source": [
    "1.Data Input ---> 2. Data Preprocessing ---> 3. Feature Engineering ---> 4. Model Training ---> 5. Hyperparameter Tuning ---> 6. Model Evaluation ---> 7. Model Validation---> 8. Future Forecasting\n",
    "                                                                                             "
   ]
  },
  {
   "cell_type": "code",
   "execution_count": null,
   "id": "e4db0f8e",
   "metadata": {},
   "outputs": [],
   "source": []
  }
 ],
 "metadata": {
  "kernelspec": {
   "display_name": "Python 3 (ipykernel)",
   "language": "python",
   "name": "python3"
  },
  "language_info": {
   "codemirror_mode": {
    "name": "ipython",
    "version": 3
   },
   "file_extension": ".py",
   "mimetype": "text/x-python",
   "name": "python",
   "nbconvert_exporter": "python",
   "pygments_lexer": "ipython3",
   "version": "3.11.7"
  }
 },
 "nbformat": 4,
 "nbformat_minor": 5
}
